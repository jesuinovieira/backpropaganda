{
 "cells": [
  {
   "cell_type": "markdown",
   "id": "90cddbd3",
   "metadata": {},
   "source": [
    "## Setup"
   ]
  },
  {
   "cell_type": "code",
   "execution_count": null,
   "id": "d0edbf2e",
   "metadata": {},
   "outputs": [],
   "source": [
    "import os\n",
    "import sys\n",
    "import random\n",
    "\n",
    "import pandas as pd\n",
    "import torch\n",
    "import torch.nn as nn\n",
    "import torch.optim as optim\n",
    "import torchinfo\n",
    "import numpy as np\n",
    "\n",
    "sys.path.append(\"../src\")\n",
    "\n",
    "import models  # noqa: E402\n",
    "import utils  # noqa: E402\n",
    "import train.backprop  # noqa: E402\n",
    "import train.ff  # noqa: E402"
   ]
  },
  {
   "cell_type": "code",
   "execution_count": null,
   "id": "5cf1a6b4",
   "metadata": {},
   "outputs": [],
   "source": [
    "# Config\n",
    "\n",
    "batch_size = 32\n",
    "n_classes = 10\n",
    "lr = 0.001\n",
    "n_epochs = 5\n",
    "device = torch.device(\"cuda\" if torch.cuda.is_available() else \"cpu\")\n",
    "\n",
    "# Set random seeds for reproducibility\n",
    "seed = 42\n",
    "random.seed(seed)\n",
    "np.random.seed(seed)\n",
    "torch.manual_seed(seed)\n",
    "torch.cuda.manual_seed(seed)"
   ]
  },
  {
   "cell_type": "code",
   "execution_count": 4,
   "id": "623d8e78",
   "metadata": {},
   "outputs": [
    {
     "name": "stderr",
     "output_type": "stream",
     "text": [
      "100.0%\n",
      "100.0%\n",
      "100.0%\n",
      "100.0%\n"
     ]
    }
   ],
   "source": [
    "# Load data\n",
    "\n",
    "train_loader, val_loader, test_loader = utils.load_mnist_data(batch_size)\n",
    "class_names = [str(i) for i in range(n_classes)]"
   ]
  },
  {
   "cell_type": "markdown",
   "id": "adc147ad",
   "metadata": {},
   "source": [
    "## Backprop"
   ]
  },
  {
   "cell_type": "code",
   "execution_count": 5,
   "id": "4863a575",
   "metadata": {},
   "outputs": [
    {
     "name": "stdout",
     "output_type": "stream",
     "text": [
      "\n",
      "Starting backpropagation training for 5 epochs\n",
      "------------------------------------------------------------\n",
      "Epoch: [1/5]  Train Loss: 0.2158,  Train Acc:  93.42%,  Val Loss: 0.0896,  Val Acc:   0.97%,  Time:  9.92s\n",
      "Epoch: [2/5]  Train Loss: 0.0705,  Train Acc:  97.83%,  Val Loss: 0.0812,  Val Acc:   0.98%,  Time:  9.68s\n",
      "Epoch: [3/5]  Train Loss: 0.0501,  Train Acc:  98.49%,  Val Loss: 0.0586,  Val Acc:   0.98%,  Time: 10.34s\n",
      "Epoch: [4/5]  Train Loss: 0.0376,  Train Acc:  98.84%,  Val Loss: 0.0546,  Val Acc:   0.99%,  Time: 10.12s\n",
      "Epoch: [5/5]  Train Loss: 0.0312,  Train Acc:  99.01%,  Val Loss: 0.0619,  Val Acc:   0.98%,  Time:  9.99s\n",
      "\n",
      "Training completed. Model saved to 'results/backprop-model.pth'\n",
      "\n",
      "Backpropagation – Training Summary\n",
      "------------------------------------------------------------\n",
      "Train accuracy: 99.01%\n",
      "Val accuracy: 0.98%\n",
      "Test accuracy: 0.99%\n",
      "Params: 61,706\n",
      "Epochs: 5\n"
     ]
    }
   ],
   "source": [
    "# Initialize model, loss, optimizer\n",
    "model = models.LeNet5(n_classes=n_classes)\n",
    "criterion = nn.CrossEntropyLoss()\n",
    "optimizer = optim.Adam(model.parameters(), lr=lr)\n",
    "\n",
    "n_params = sum(p.numel() for p in model.parameters())\n",
    "torchinfo.summary(model, input_size=(batch_size, 1, 32, 32))\n",
    "print(\"\")\n",
    "\n",
    "# Train model using backpropagation\n",
    "history = train.backprop.backprop(\n",
    "    model=model,\n",
    "    train_loader=train_loader,\n",
    "    val_loader=val_loader,\n",
    "    criterion=criterion,\n",
    "    optimizer=optimizer,\n",
    "    n_epochs=n_epochs,\n",
    "    device=device,\n",
    ")\n",
    "\n",
    "# Save trained model\n",
    "save_path = \"results/backprop-model.pth\"\n",
    "os.makedirs(os.path.dirname(save_path), exist_ok=True)\n",
    "torch.save(model.state_dict(), save_path)\n",
    "print(f\"\\nTraining completed. Model saved to '{save_path}'\")\n",
    "\n",
    "# Save training history\n",
    "dst = \"results/backprop-history.csv\"\n",
    "pd.DataFrame(history).to_csv(dst, index=False)\n",
    "\n",
    "# Evaluate model\n",
    "test_metrics = train.backprop.evaluate(model, test_loader, criterion, device)\n",
    "utils.save_metrics(test_metrics, \"results/mnist-metrics.csv\", \"backprop\")\n",
    "\n",
    "# Final summary\n",
    "print(\"\\nBackpropagation – Training Summary\")\n",
    "print(\"-\" * 60)\n",
    "print(f\"Train accuracy: {history['train_accuracies'][-1]:.2f}%\")\n",
    "print(f\"Val accuracy: {history['val_accuracies'][-1]:.2f}%\")\n",
    "print(f\"Test accuracy: {test_metrics['accuracy']:.2f}%\")\n",
    "print(f\"Params: {n_params:,}\")\n",
    "print(f\"Epochs: {n_epochs}\")"
   ]
  },
  {
   "cell_type": "markdown",
   "id": "6f4bc6a6",
   "metadata": {},
   "source": [
    "## Forward-forward"
   ]
  },
  {
   "cell_type": "code",
   "execution_count": 6,
   "id": "4f8eb138",
   "metadata": {},
   "outputs": [
    {
     "name": "stdout",
     "output_type": "stream",
     "text": [
      "\n",
      "Starting forward-forward training for 5 epochs\n",
      "------------------------------------------------------------\n",
      "Epoch: [1/5]  Train Loss: 3.9720,  Train Acc:   0.00%,  Val Acc:   0.89%,  Time: 34.16s\n",
      "Epoch: [2/5]  Train Loss: 2.3532,  Train Acc:   0.00%,  Val Acc:   0.90%,  Time: 35.06s\n",
      "Epoch: [3/5]  Train Loss: 1.9517,  Train Acc:   0.00%,  Val Acc:   0.91%,  Time: 34.34s\n",
      "Epoch: [4/5]  Train Loss: 1.7597,  Train Acc:   0.00%,  Val Acc:   0.88%,  Time: 35.81s\n",
      "Epoch: [5/5]  Train Loss: 1.5243,  Train Acc:   0.00%,  Val Acc:   0.92%,  Time: 34.55s\n",
      "\n",
      "Training completed. Model saved to 'results/ff-model.pth'\n",
      "\n",
      "Forward-Forward – Training Summary\n",
      "------------------------------------------------------------\n",
      "Train accuracy: 0.00%\n",
      "Val accuracy: 0.92%\n",
      "Test accuracy: 0.94%\n",
      "Params: 63,206\n",
      "Epochs: 5\n"
     ]
    }
   ],
   "source": [
    "# Initialize model, loss, optimizer\n",
    "model = models.FFLeNet5(n_classes=n_classes)\n",
    "optimizers = [torch.optim.Adam(layer.parameters(), lr=lr) for layer in model.layers]\n",
    "\n",
    "n_params = sum(p.numel() for p in model.parameters())\n",
    "torchinfo.summary(model, input_size=(batch_size, 1 + n_classes, 32, 32))\n",
    "print(\"\")\n",
    "\n",
    "# Train model using forward-forward\n",
    "# - No criterion: FF does not use global loss\n",
    "# - No optimizer: FF uses per-layer optimizers\n",
    "history = train.ff.forward_forward(\n",
    "    model=model,\n",
    "    train_loader=train_loader,\n",
    "    val_loader=val_loader,\n",
    "    optimizers=optimizers,\n",
    "    n_epochs=n_epochs,\n",
    "    device=device,\n",
    "    n_classes=n_classes,\n",
    "    threshold=2.0,\n",
    ")\n",
    "\n",
    "# Save trained model\n",
    "save_path = \"results/ff-model.pth\"\n",
    "os.makedirs(os.path.dirname(save_path), exist_ok=True)\n",
    "torch.save(model.state_dict(), save_path)\n",
    "print(f\"\\nTraining completed. Model saved to '{save_path}'\")\n",
    "\n",
    "# Save training history\n",
    "dst = \"results/ff-history.csv\"\n",
    "pd.DataFrame(history).to_csv(dst, index=False)\n",
    "\n",
    "# Evaluate model\n",
    "test_metrics = train.ff.evaluate(model, test_loader, n_classes, device)\n",
    "utils.save_metrics(test_metrics, \"results/mnist-metrics.csv\", \"ff\")\n",
    "\n",
    "# Final summary\n",
    "print(\"\\nForward-Forward – Training Summary\")\n",
    "print(\"-\" * 60)\n",
    "print(f\"Train accuracy: {history['train_accuracies'][-1]:.2f}%\")\n",
    "print(f\"Val accuracy: {history['val_accuracies'][-1]:.2f}%\")\n",
    "print(f\"Test accuracy: {test_metrics['accuracy']:.2f}%\")\n",
    "print(f\"Params: {n_params:,}\")\n",
    "print(f\"Epochs: {n_epochs}\")"
   ]
  },
  {
   "cell_type": "markdown",
   "id": "21f1bed3",
   "metadata": {},
   "source": [
    "## Results"
   ]
  },
  {
   "cell_type": "code",
   "execution_count": 26,
   "id": "bb97d2c4",
   "metadata": {},
   "outputs": [],
   "source": [
    "import matplotlib.pyplot as plt\n",
    "import pandas as pd\n",
    "\n",
    "\n",
    "def plot_training_curves(\n",
    "    histories: dict[str, pd.DataFrame],\n",
    "    metrics: list[str] = [\"losses\"],\n",
    "    save_path: str = None,\n",
    "    title: str = \"Training Curves\",\n",
    "):\n",
    "    plt.figure(figsize=(10, 6))\n",
    "\n",
    "    colors = plt.get_cmap(\"tab10\")\n",
    "    model_colors = {model_name: colors(i) for i, model_name in enumerate(histories)}\n",
    "\n",
    "    line_styles = {\"train\": \"-\", \"val\": \"--\"}\n",
    "\n",
    "    for model_name, df in histories.items():\n",
    "        for metric in metrics:\n",
    "            for phase in [\"train\", \"val\"]:\n",
    "                col = f\"{phase}_{metric}\"\n",
    "                if col in df.columns:\n",
    "                    plt.plot(\n",
    "                        df[col],\n",
    "                        label=f\"{model_name} ({phase})\",\n",
    "                        color=model_colors[model_name],\n",
    "                        linestyle=line_styles[phase],\n",
    "                    )\n",
    "\n",
    "    plt.title(title)\n",
    "    plt.xlabel(\"Epoch\")\n",
    "    plt.ylabel(\"Value\")\n",
    "    plt.grid(True)\n",
    "    plt.legend()\n",
    "    plt.tight_layout()\n",
    "\n",
    "    if save_path:\n",
    "        plt.savefig(save_path)\n",
    "        print(f\"Saved plot to {save_path}\")\n",
    "    else:\n",
    "        plt.show()\n",
    "\n",
    "\n",
    "def plot_test_metrics(csv_path: str, save_path: str = None):\n",
    "    \"\"\"\n",
    "    Plot bar chart of test metrics from CSV.\n",
    "\n",
    "    Args:\n",
    "        csv_path: Path to mnist-metrics.csv\n",
    "        save_path: If set, saves the figure instead of showing it.\n",
    "    \"\"\"\n",
    "    df = pd.read_csv(csv_path)\n",
    "    metric_cols = [\"accuracy\", \"precision\", \"recall\", \"f1_score\"]\n",
    "\n",
    "    df_plot = df.set_index(\"model\")[metric_cols]\n",
    "\n",
    "    df_plot.plot(kind=\"bar\", figsize=(10, 5))\n",
    "    plt.title(\"Final Test Performance\")\n",
    "    plt.ylabel(\"Score\")\n",
    "    plt.ylim(0, 1.0)\n",
    "    plt.grid(True, axis=\"y\")\n",
    "    plt.xticks(rotation=0)\n",
    "    plt.tight_layout()\n",
    "\n",
    "    if save_path:\n",
    "        plt.savefig(save_path)\n",
    "        print(f\"Saved test performance plot to {save_path}\")\n",
    "    else:\n",
    "        plt.show()"
   ]
  },
  {
   "cell_type": "code",
   "execution_count": 27,
   "id": "01cb29da",
   "metadata": {},
   "outputs": [
    {
     "name": "stdout",
     "output_type": "stream",
     "text": [
      "Saved plot to ../results/training-curves.png\n"
     ]
    },
    {
     "data": {
      "image/png": "[encoded data removed]",
      "text/plain": [
       "<Figure size 1000x600 with 1 Axes>"
      ]
     },
     "metadata": {},
     "output_type": "display_data"
    }
   ],
   "source": [
    "history_backprop = pd.read_csv(\"results/backprop-history.csv\")\n",
    "history_ff = pd.read_csv(\"results/ff-history.csv\")\n",
    "\n",
    "plot_training_curves(\n",
    "    {\"backprop\": history_backprop, \"ff\": history_ff},\n",
    "    save_path=\"../results/training-curves.png\",\n",
    ")\n",
    "# plot_test_metrics(\"mnist-metrics.csv\", save_path=\"../results/test-performance.png\")"
   ]
  }
 ],
 "metadata": {
  "kernelspec": {
   "display_name": ".venv",
   "language": "python",
   "name": "python3"
  },
  "language_info": {
   "codemirror_mode": {
    "name": "ipython",
    "version": 3
   },
   "file_extension": ".py",
   "mimetype": "text/x-python",
   "name": "python",
   "nbconvert_exporter": "python",
   "pygments_lexer": "ipython3",
   "version": "3.11.13"
  }
 },
 "nbformat": 4,
 "nbformat_minor": 5
}
